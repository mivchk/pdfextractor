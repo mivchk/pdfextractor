{
  "nbformat": 4,
  "nbformat_minor": 0,
  "metadata": {
    "colab": {
      "provenance": [],
      "mount_file_id": "1ZfMgf1ddUxDhgAR6HwmcUmY8azZYysb7",
      "authorship_tag": "ABX9TyOJDT+3NnIYiuyzMLOw4ipi",
      "include_colab_link": true
    },
    "kernelspec": {
      "name": "python3",
      "display_name": "Python 3"
    },
    "language_info": {
      "name": "python"
    }
  },
  "cells": [
    {
      "cell_type": "markdown",
      "metadata": {
        "id": "view-in-github",
        "colab_type": "text"
      },
      "source": [
        "<a href=\"https://colab.research.google.com/github/mkhivchk/pdfextractor/blob/main/pdfextract.ipynb\" target=\"_parent\"><img src=\"https://colab.research.google.com/assets/colab-badge.svg\" alt=\"Open In Colab\"/></a>"
      ]
    },
    {
      "cell_type": "markdown",
      "source": [
        "Первый шаг - импорт необходимых библиотек и подключение Google Drive для создания промежуточного файла PDF, с которым будет работать обработчик PDFtoTXT"
      ],
      "metadata": {
        "id": "R2DHjkJTellV"
      }
    },
    {
      "cell_type": "code",
      "source": [
        "from google.colab import drive\n",
        "drive.mount('/content/drive/')"
      ],
      "metadata": {
        "colab": {
          "base_uri": "https://localhost:8080/"
        },
        "id": "6TZYQXwv7uSM",
        "outputId": "2ff04324-75b3-4688-cc66-1bf0cbe511a5"
      },
      "execution_count": null,
      "outputs": [
        {
          "output_type": "stream",
          "name": "stdout",
          "text": [
            "Drive already mounted at /content/drive/; to attempt to forcibly remount, call drive.mount(\"/content/drive/\", force_remount=True).\n"
          ]
        }
      ]
    },
    {
      "cell_type": "code",
      "execution_count": null,
      "metadata": {
        "id": "4ICV8nsV3-s7"
      },
      "outputs": [],
      "source": [
        "from gensim.summarization import summarize\n",
        "import requests\n",
        "!pip install PyPDF2\n",
        "from PyPDF2 import PdfReader\n",
        "import regex as re\n"
      ]
    },
    {
      "cell_type": "markdown",
      "source": [
        "Вставка ссылки на скачивание PDF файла. Скрипт его автоматически сохраняет на диске с кодовым названием input.pdf. С каждой новой ссылкой документ пересоздается."
      ],
      "metadata": {
        "id": "E6Ej0t5oe0q9"
      }
    },
    {
      "cell_type": "code",
      "source": [
        "with open(r'/content/drive/MyDrive/input.pdf',\"wb\") as f:\n",
        "  ufr = requests.get(input('input your url: '))\n",
        "  f.write(ufr.content)"
      ],
      "metadata": {
        "id": "lLX32g-V7Oky"
      },
      "execution_count": null,
      "outputs": []
    },
    {
      "cell_type": "markdown",
      "source": [
        "Здесь PDF конвертируется в текст и передается в список Articles"
      ],
      "metadata": {
        "id": "3A4EBwwrfF8p"
      }
    },
    {
      "cell_type": "code",
      "source": [
        "pdf_document = \"/content/drive/MyDrive/input.pdf\"\n",
        "with open(pdf_document, \"rb\") as filehandle:  \n",
        "    pdf = PdfReader(filehandle)\n",
        "   \n",
        "    info = pdf.metadata\n",
        "    pages = pdf.pages\n",
        "\n",
        "    articles = []\n",
        "\n",
        "    for i in range(len(pages)):\n",
        "        page = pdf.pages[i]\n",
        "        articles.append(str(page.extract_text()))\n",
        "        # print(\"Стр.\", i, \" мета: \", page, \"\\n\\nСодержание;\\n\")\n",
        "        # print(page.extract_text())   "
      ],
      "metadata": {
        "id": "s0zWTotv4S5p"
      },
      "execution_count": null,
      "outputs": []
    },
    {
      "cell_type": "markdown",
      "source": [
        "Здесть с помощью регулярных выражений текст очищается от переносов, характерных для pdf файлов, чтобы на выходе получить более чистый текст без переносов и обрывов"
      ],
      "metadata": {
        "id": "vziPfDkPfQ0a"
      }
    },
    {
      "cell_type": "code",
      "source": [
        "result = []\n",
        "for elems in articles:\n",
        "  result.append(re.sub(r'\\n','',elems))"
      ],
      "metadata": {
        "id": "1t79_P3hI7dW"
      },
      "execution_count": null,
      "outputs": []
    },
    {
      "cell_type": "code",
      "source": [
        "result = ' '.join(result)"
      ],
      "metadata": {
        "id": "YFQMHPYuJHNM"
      },
      "execution_count": null,
      "outputs": []
    },
    {
      "cell_type": "markdown",
      "source": [
        "На этом этапе текст объединяется в строку и загружается в модуль, который анализирует текст и выдает краткую сводку. Далее печатается результат. \n",
        "P.S. значение ratio позволяет увеличивать или уменьшать качество и количество выдаваемого модулем текста."
      ],
      "metadata": {
        "id": "sSOKVWQ9faFm"
      }
    },
    {
      "cell_type": "code",
      "source": [
        "summary = summarize(result, ratio=0.1)"
      ],
      "metadata": {
        "id": "I2Lvz-lU_z81"
      },
      "execution_count": null,
      "outputs": []
    },
    {
      "cell_type": "code",
      "source": [
        "print(f'Article Summary:\\n{summary}')"
      ],
      "metadata": {
        "id": "ciQH62_TABCm"
      },
      "execution_count": null,
      "outputs": []
    }
  ]
}